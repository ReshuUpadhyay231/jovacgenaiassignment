{
 "cells": [
  {
   "cell_type": "code",
   "execution_count": 1,
   "id": "317ef5bf-4679-4646-908b-8ff4b9beef35",
   "metadata": {},
   "outputs": [],
   "source": [
    "import os\n",
    "import zipfile\n",
    "import numpy as np\n",
    "import matplotlib.pyplot as plt\n",
    "from sklearn.model_selection import train_test_split\n",
    "from tensorflow.keras.utils import to_categorical\n",
    "from tensorflow.keras.preprocessing.image import load_img, img_to_array\n",
    "import tensorflow as tf\n"
   ]
  },
  {
   "cell_type": "code",
   "execution_count": 2,
   "id": "17cf75a5-d2bc-4fac-ba2d-24de36a28cb7",
   "metadata": {},
   "outputs": [
    {
     "name": "stdout",
     "output_type": "stream",
     "text": [
      "Extraction complete!\n"
     ]
    }
   ],
   "source": [
    "zip_path = 'hindi_dataset.zip'  \n",
    "extract_to = 'hindi_dataset'\n",
    "\n",
    "with zipfile.ZipFile(zip_path, 'r') as zip_ref:\n",
    "    zip_ref.extractall(extract_to)\n",
    "\n",
    "print(\"Extraction complete!\")\n"
   ]
  },
  {
   "cell_type": "code",
   "execution_count": 4,
   "id": "bf55c8aa-42e2-4662-8906-ea2ccebf7191",
   "metadata": {},
   "outputs": [
    {
     "name": "stdout",
     "output_type": "stream",
     "text": [
      "Contents of extracted folder:\n",
      "['digits', 'Hindi', 'Top-10']\n"
     ]
    }
   ],
   "source": [
    "import os\n",
    "\n",
    "# Show top-level folders/files after extracting\n",
    "print(\"Contents of extracted folder:\")\n",
    "print(os.listdir('hindi_dataset'))\n"
   ]
  },
  {
   "cell_type": "code",
   "execution_count": 5,
   "id": "628d1e41-8a91-4d86-b199-b352135e9241",
   "metadata": {},
   "outputs": [
    {
     "name": "stdout",
     "output_type": "stream",
     "text": [
      "\n",
      "Contents of 'digits': ['digits']\n",
      "\n",
      "Contents of 'Hindi': ['Test', 'Train']\n",
      "\n",
      "Contents of 'Top-10': ['Test', 'Train']\n"
     ]
    }
   ],
   "source": [
    "for folder in ['digits', 'Hindi', 'Top-10']:\n",
    "    path = os.path.join('hindi_dataset', folder)\n",
    "    print(f\"\\nContents of '{folder}':\", os.listdir(path)[:5])  # show first 5 items\n"
   ]
  },
  {
   "cell_type": "code",
   "execution_count": 6,
   "id": "aca2729b-f344-43b6-8a07-dd7093639fa9",
   "metadata": {},
   "outputs": [],
   "source": [
    "data_dir = os.path.join('hindi_dataset', 'Hindi')\n"
   ]
  },
  {
   "cell_type": "code",
   "execution_count": 8,
   "id": "b4fd7442-4780-4d7c-984c-b6a440660a49",
   "metadata": {},
   "outputs": [],
   "source": [
    "import imghdr  # to verify file is image\n",
    "\n",
    "for idx, class_folder in enumerate(class_names):\n",
    "    folder_path = os.path.join(data_dir, class_folder)\n",
    "    for img_file in os.listdir(folder_path):\n",
    "        img_path = os.path.join(folder_path, img_file)\n",
    "\n",
    "        # Skip if not a file or not an image\n",
    "        if not os.path.isfile(img_path) or imghdr.what(img_path) is None:\n",
    "            continue\n",
    "\n",
    "        img = load_img(img_path, target_size=(img_size, img_size), color_mode='grayscale')\n",
    "        img_array = img_to_array(img) / 255.0\n",
    "        X.append(img_array)\n",
    "        y.append(idx)\n"
   ]
  },
  {
   "cell_type": "code",
   "execution_count": 10,
   "id": "cf03e5e3-3cad-4309-a27d-ca90328f2777",
   "metadata": {},
   "outputs": [],
   "source": [
    "train_dir = os.path.join('hindi_dataset', 'Hindi', 'Train')\n",
    "test_dir = os.path.join('hindi_dataset', 'Hindi', 'Test')\n",
    "img_size = 32\n"
   ]
  },
  {
   "cell_type": "code",
   "execution_count": 11,
   "id": "2ab32e91-a8e3-402d-8871-dc67691f2651",
   "metadata": {},
   "outputs": [],
   "source": [
    "import os\n",
    "import imghdr\n",
    "import numpy as np\n",
    "from tensorflow.keras.preprocessing.image import load_img, img_to_array\n",
    "from tensorflow.keras.utils import to_categorical\n",
    "\n",
    "def load_dataset(data_dir):\n",
    "    X = []\n",
    "    y = []\n",
    "    class_names = sorted(os.listdir(data_dir))\n",
    "\n",
    "    for idx, class_folder in enumerate(class_names):\n",
    "        folder_path = os.path.join(data_dir, class_folder)\n",
    "        for img_file in os.listdir(folder_path):\n",
    "            img_path = os.path.join(folder_path, img_file)\n",
    "\n",
    "            if not os.path.isfile(img_path) or imghdr.what(img_path) is None:\n",
    "                continue\n",
    "\n",
    "            img = load_img(img_path, target_size=(img_size, img_size), color_mode='grayscale')\n",
    "            img_array = img_to_array(img) / 255.0\n",
    "            X.append(img_array)\n",
    "            y.append(idx)\n",
    "\n",
    "    return np.array(X), to_categorical(y), class_names\n",
    "\n",
    "\n"
   ]
  },
  {
   "cell_type": "code",
   "execution_count": 12,
   "id": "3ffc6739-8e5e-4458-bc6f-8efd222e6b76",
   "metadata": {},
   "outputs": [
    {
     "name": "stdout",
     "output_type": "stream",
     "text": [
      "Train shape: (78200, 32, 32, 1)\n",
      "Test shape: (13800, 32, 32, 1)\n",
      "Number of classes: 46\n"
     ]
    }
   ],
   "source": [
    "X_train, y_train, class_names = load_dataset(train_dir)\n",
    "X_test, y_test, _ = load_dataset(test_dir)\n",
    "\n",
    "print(\"Train shape:\", X_train.shape)\n",
    "print(\"Test shape:\", X_test.shape)\n",
    "print(\"Number of classes:\", len(class_names))\n"
   ]
  },
  {
   "cell_type": "code",
   "execution_count": null,
   "id": "a2cd7222-7eeb-4c2a-8e95-35da99aa4aed",
   "metadata": {},
   "outputs": [],
   "source": [
    "model = tf.keras.Sequential([\n",
    "    tf.keras.layers.Conv2D(32, (3,3), activation='relu', input_shape=(img_size, img_size, 1)),\n",
    "    tf.keras.layers.MaxPooling2D(2,2),\n",
    "    tf.keras.layers.Conv2D(64, (3,3), activation='relu'),\n",
    "    tf.keras.layers.MaxPooling2D(2,2),\n",
    "    tf.keras.layers.Flatten(),\n",
    "    tf.keras.layers.Dense(128, activation='relu'),\n",
    "    tf.keras.layers.Dense(len(class_names), activation='softmax')\n",
    "])\n",
    "\n",
    "model.compile(optimizer='adam',\n",
    "              loss='categorical_crossentropy',\n",
    "              metrics=['accuracy'])\n",
    "\n",
    "model.summary()\n"
   ]
  },
  {
   "cell_type": "code",
   "execution_count": 14,
   "id": "2ac5f81a-eff7-4b01-9e78-fe9a64137923",
   "metadata": {},
   "outputs": [
    {
     "name": "stdout",
     "output_type": "stream",
     "text": [
      "Epoch 1/10\n",
      "\u001b[1m1100/1100\u001b[0m \u001b[32m━━━━━━━━━━━━━━━━━━━━\u001b[0m\u001b[37m\u001b[0m \u001b[1m23s\u001b[0m 19ms/step - accuracy: 0.6719 - loss: 1.2372 - val_accuracy: 0.1023 - val_loss: 22.6687\n",
      "Epoch 2/10\n",
      "\u001b[1m1100/1100\u001b[0m \u001b[32m━━━━━━━━━━━━━━━━━━━━\u001b[0m\u001b[37m\u001b[0m \u001b[1m20s\u001b[0m 18ms/step - accuracy: 0.9464 - loss: 0.1781 - val_accuracy: 0.1059 - val_loss: 23.1181\n",
      "Epoch 3/10\n",
      "\u001b[1m1100/1100\u001b[0m \u001b[32m━━━━━━━━━━━━━━━━━━━━\u001b[0m\u001b[37m\u001b[0m \u001b[1m21s\u001b[0m 19ms/step - accuracy: 0.9714 - loss: 0.0930 - val_accuracy: 0.1121 - val_loss: 24.8155\n",
      "Epoch 4/10\n",
      "\u001b[1m1100/1100\u001b[0m \u001b[32m━━━━━━━━━━━━━━━━━━━━\u001b[0m\u001b[37m\u001b[0m \u001b[1m21s\u001b[0m 19ms/step - accuracy: 0.9819 - loss: 0.0581 - val_accuracy: 0.1217 - val_loss: 25.5569\n",
      "Epoch 5/10\n",
      "\u001b[1m1100/1100\u001b[0m \u001b[32m━━━━━━━━━━━━━━━━━━━━\u001b[0m\u001b[37m\u001b[0m \u001b[1m20s\u001b[0m 18ms/step - accuracy: 0.9877 - loss: 0.0391 - val_accuracy: 0.1142 - val_loss: 28.6514\n",
      "Epoch 6/10\n",
      "\u001b[1m1100/1100\u001b[0m \u001b[32m━━━━━━━━━━━━━━━━━━━━\u001b[0m\u001b[37m\u001b[0m \u001b[1m21s\u001b[0m 19ms/step - accuracy: 0.9900 - loss: 0.0297 - val_accuracy: 0.1166 - val_loss: 29.1401\n",
      "Epoch 7/10\n",
      "\u001b[1m1100/1100\u001b[0m \u001b[32m━━━━━━━━━━━━━━━━━━━━\u001b[0m\u001b[37m\u001b[0m \u001b[1m22s\u001b[0m 20ms/step - accuracy: 0.9920 - loss: 0.0241 - val_accuracy: 0.1239 - val_loss: 28.3840\n",
      "Epoch 8/10\n",
      "\u001b[1m1100/1100\u001b[0m \u001b[32m━━━━━━━━━━━━━━━━━━━━\u001b[0m\u001b[37m\u001b[0m \u001b[1m21s\u001b[0m 19ms/step - accuracy: 0.9934 - loss: 0.0204 - val_accuracy: 0.1129 - val_loss: 31.0046\n",
      "Epoch 9/10\n",
      "\u001b[1m1100/1100\u001b[0m \u001b[32m━━━━━━━━━━━━━━━━━━━━\u001b[0m\u001b[37m\u001b[0m \u001b[1m21s\u001b[0m 19ms/step - accuracy: 0.9954 - loss: 0.0149 - val_accuracy: 0.1219 - val_loss: 33.2658\n",
      "Epoch 10/10\n",
      "\u001b[1m1100/1100\u001b[0m \u001b[32m━━━━━━━━━━━━━━━━━━━━\u001b[0m\u001b[37m\u001b[0m \u001b[1m21s\u001b[0m 19ms/step - accuracy: 0.9946 - loss: 0.0156 - val_accuracy: 0.1165 - val_loss: 31.3898\n"
     ]
    },
    {
     "data": {
      "text/plain": [
       "<keras.src.callbacks.history.History at 0x22bf41e26b0>"
      ]
     },
     "execution_count": 14,
     "metadata": {},
     "output_type": "execute_result"
    }
   ],
   "source": [
    "model.fit(X_train, y_train, epochs=10, batch_size=64, validation_split=0.1)\n"
   ]
  },
  {
   "cell_type": "code",
   "execution_count": 15,
   "id": "36ef1418-bad5-4faf-a877-dad6c3f45d71",
   "metadata": {},
   "outputs": [
    {
     "name": "stdout",
     "output_type": "stream",
     "text": [
      "\u001b[1m432/432\u001b[0m \u001b[32m━━━━━━━━━━━━━━━━━━━━\u001b[0m\u001b[37m\u001b[0m \u001b[1m2s\u001b[0m 5ms/step - accuracy: 0.9699 - loss: 0.2671\n",
      "Test Accuracy: 0.8885\n"
     ]
    }
   ],
   "source": [
    "loss, acc = model.evaluate(X_test, y_test)\n",
    "print(f\"Test Accuracy: {acc:.4f}\")\n"
   ]
  },
  {
   "cell_type": "code",
   "execution_count": 23,
   "id": "0472880f-2931-4565-af45-3e3f63f1231a",
   "metadata": {},
   "outputs": [
    {
     "name": "stdout",
     "output_type": "stream",
     "text": [
      "\u001b[1m1/1\u001b[0m \u001b[32m━━━━━━━━━━━━━━━━━━━━\u001b[0m\u001b[37m\u001b[0m \u001b[1m0s\u001b[0m 42ms/step\n"
     ]
    },
    {
     "data": {
      "image/png": "[encoded data removed]",
      "text/plain": [
       "<Figure size 640x480 with 1 Axes>"
      ]
     },
     "metadata": {},
     "output_type": "display_data"
    }
   ],
   "source": [
    "import random\n",
    "i = random.randint(0, len(X_test)-1)\n",
    "\n",
    "plt.imshow(X_test[i].reshape(img_size, img_size), cmap='gray')\n",
    "pred = model.predict(np.expand_dims(X_test[i], axis=0))\n",
    "plt.title(f\"Predicted: {class_names[np.argmax(pred)]}\")\n",
    "plt.axis('on')\n",
    "plt.show()\n"
   ]
  },
  {
   "cell_type": "code",
   "execution_count": null,
   "id": "6075bbe5-d0b2-44a9-8fbe-f3939189aeea",
   "metadata": {},
   "outputs": [],
   "source": []
  },
  {
   "cell_type": "code",
   "execution_count": null,
   "id": "f332a800-3ced-4b2a-af0a-cd35c58f1b37",
   "metadata": {},
   "outputs": [],
   "source": []
  }
 ],
 "metadata": {
  "kernelspec": {
   "display_name": "Python 3 (ipykernel)",
   "language": "python",
   "name": "python3"
  },
  "language_info": {
   "codemirror_mode": {
    "name": "ipython",
    "version": 3
   },
   "file_extension": ".py",
   "mimetype": "text/x-python",
   "name": "python",
   "nbconvert_exporter": "python",
   "pygments_lexer": "ipython3",
   "version": "3.10.0"
  }
 },
 "nbformat": 4,
 "nbformat_minor": 5
}
